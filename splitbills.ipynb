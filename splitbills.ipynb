{
 "cells": [
  {
   "cell_type": "markdown",
   "metadata": {
    "deletable": true,
    "editable": true
   },
   "source": [
    "# Unsere Fickkosten"
   ]
  },
  {
   "cell_type": "code",
   "execution_count": 98,
   "metadata": {
    "collapsed": true
   },
   "outputs": [],
   "source": [
    "import copy\n",
    "\n",
    "\n",
    "class defaultdict(dict):\n",
    "    def __init__(self, obj, factory):\n",
    "        self.factory = factory\n",
    "        super(defaultdict, self).__init__(obj)\n",
    "        \n",
    "    def __getitem__(self, key):\n",
    "        if key not in self.keys():\n",
    "            return self.factory()\n",
    "        return super(defaultdict, self).__getitem__(key)\n",
    "        \n",
    "        \n",
    "class Costgroup(object):\n",
    "    def __init__(self, costs):\n",
    "        self.costs = self.subtract_mean(costs)\n",
    "       \n",
    "    @staticmethod\n",
    "    def mean(d):\n",
    "        return sum(d.values()) / len(d)\n",
    "\n",
    "    @staticmethod\n",
    "    def subtract_mean(d):\n",
    "        m = Costgroup.mean(d)\n",
    "        return defaultdict({k: v - m for k, v in d.items()}, float)\n",
    "    \n",
    "    def __add__(self, other):\n",
    "        if not isinstance(other, Costgroup):\n",
    "            other = defaultdict(other, float)\n",
    "        self.costs = defaultdict({k: self.costs[k] + other.costs[k] for k in set(self.costs.keys() + other.costs.keys())}, float)\n",
    "        return self\n",
    "    \n",
    "    def keys(self):\n",
    "        return self.costs.keys()\n",
    "    \n",
    "    def values(self):\n",
    "        return self.costs.values()\n",
    "    \n",
    "    def items(self):\n",
    "        return zip(self.keys(), self.values())\n",
    "    \n",
    "    @staticmethod\n",
    "    def round_to_cents(val):\n",
    "        return round(val * 100) / 100.\n",
    "    \n",
    "    def calc_transactions(self):\n",
    "        senders, receivers = {}, {}\n",
    "        for k, v in self.costs.items():\n",
    "            v = self.round_to_cents(v)\n",
    "            if v < 0:\n",
    "                senders[k] = -v\n",
    "            else:\n",
    "                receivers[k] = v\n",
    "        balance = copy.copy(receivers)\n",
    "        transactions = {}\n",
    "        for s, v in senders.items():\n",
    "            budget = v\n",
    "            transactions[s] = {}\n",
    "            for r in balance.keys():\n",
    "                if budget == 0.:\n",
    "                    break\n",
    "                transaction = min(budget, balance[r])\n",
    "                transactions[s][r] = transaction\n",
    "                budget -= transaction\n",
    "                balance[r] -= transaction\n",
    "                if not balance[r]:\n",
    "                    del balance[r]\n",
    "        assert all(self.round_to_cents(sum(transactions[k].values())) == senders[k] for k in senders.keys())\n",
    "        assert all(sum(defaultdict(trans_receivers, float)[k] for trans_receivers in transactions.values()) == receivers[k] for k in receivers.keys())\n",
    "        return transactions\n",
    "    \n",
    "def print_transactions(transactions):\n",
    "    maxwidth1 = max(map(len, transactions.keys()))\n",
    "    maxwidth2 = max(max(map(len, v.keys())) for v in transactions.values())\n",
    "    maxwidth3 = max(max(map(lambda x: len(str(x)), v.values())) for v in transactions.values())\n",
    "    format_string = \"{{:<{}}} -> {{:<{}}}: {{:>{}}}\".format(maxwidth1 + 1, maxwidth2 + 1, maxwidth3 + 1)\n",
    "    for sender, receivers in transactions.items():\n",
    "        for receiver, value in receivers.items():\n",
    "            print(format_string.format(sender, receiver, value))"
   ]
  },
  {
   "cell_type": "code",
   "execution_count": 99,
   "metadata": {
    "collapsed": false,
    "deletable": true,
    "editable": true
   },
   "outputs": [
    {
     "name": "stdout",
     "output_type": "stream",
     "text": [
      "max     -> tim    :  206.64\n",
      "dion    -> tim    :   94.81\n",
      "dion    -> moritz :  189.82\n",
      "uli     -> moritz :  169.03\n",
      "yannik  -> moritz :  204.63\n",
      "paul    -> moritz :  244.63\n",
      "peter   -> moritz :  284.63\n"
     ]
    }
   ],
   "source": [
    "main_group = Costgroup({\n",
    "    \"moritz\": 334.25,\n",
    "    \"dion\": 0,\n",
    "    \"tim\": 17.74 + 197.74 + 187.36 + 8.30 + 96.95,\n",
    "    \"yannik\": 80,\n",
    "    \"max\": 0,\n",
    "    \"peter\": 0,\n",
    "    \"paul\": 40,\n",
    "    \"uli\": 0\n",
    "})\n",
    "\n",
    "subgrp1 = Costgroup({\n",
    "    \"moritz\": 345.39 + 259.04,\n",
    "    \"dion\": 0,\n",
    "    \"tim\": 0,\n",
    "    \"yannik\": 0,\n",
    "    \"max\": 0,\n",
    "    \"peter\": 0,\n",
    "    \"paul\": 0,\n",
    "})\n",
    "\n",
    "subgrp2 = Costgroup({\n",
    "    \"moritz\": 389.95,\n",
    "    \"dion\": 0,\n",
    "    \"yannik\": 0,\n",
    "    \"peter\": 0,\n",
    "    \"paul\": 0,\n",
    "})\n",
    "\n",
    "subgrp3 = Costgroup({\n",
    "    \"uli\": 0,\n",
    "    \"moritz\": 48.74 * 2\n",
    "})\n",
    "\n",
    "all_costs = main_group + subgrp1 + subgrp2 + subgrp3\n",
    "print_transactions(all_costs.calc_transactions())"
   ]
  },
  {
   "cell_type": "code",
   "execution_count": null,
   "metadata": {
    "collapsed": true,
    "deletable": true,
    "editable": true
   },
   "outputs": [],
   "source": []
  }
 ],
 "metadata": {
  "kernelspec": {
   "display_name": "Python 2",
   "language": "python",
   "name": "python2"
  },
  "language_info": {
   "codemirror_mode": {
    "name": "ipython",
    "version": 2
   },
   "file_extension": ".py",
   "mimetype": "text/x-python",
   "name": "python",
   "nbconvert_exporter": "python",
   "pygments_lexer": "ipython2",
   "version": "2.7.13"
  }
 },
 "nbformat": 4,
 "nbformat_minor": 2
}
